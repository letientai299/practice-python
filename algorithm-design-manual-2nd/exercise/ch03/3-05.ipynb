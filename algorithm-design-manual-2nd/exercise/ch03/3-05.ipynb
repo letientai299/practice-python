{
 "cells": [
  {
   "cell_type": "markdown",
   "metadata": {},
   "source": [
    "### 3.5\n",
    "\n",
    "Find the overhead fraction (the ratio of data space over total space) for each of the following binary tree implementations on $n$ nodes:\n",
    "\n",
    "* a) All nodes store data, two child pointers, and a parent pointer. The data field requires four bytes and each pointer requires four bytes.\n",
    "* b) Only leaf nodes store data; internal nodes store two child pointers. The data field requires four bytes and each pointer requires two bytes."
   ]
  },
  {
   "cell_type": "markdown",
   "metadata": {},
   "source": [
    "**a)** \n",
    "\n",
    "Assume that $n = 2^k-1$, so that we can have a perfect binary tree.\n",
    "- Number of nodes: $ n_{node} = 2^k -1$\n",
    "- There's $1$ root node, which only has 2 child pointers. There's $2^{k-1}$ leaf nodes, which each has only 1 parent pointer. The rest of the nodes has 3 pointers. So, the total of pointers: \n",
    "\n",
    "$\n",
    "n_{pointer} = 2 + 2^{k-1} + 3(2^{k-1} -2) = 2^{k+1} - 4\n",
    "$\n",
    "\n",
    "The overhead fraction:\n",
    "\n",
    "$\n",
    "\\begin{align*}\n",
    "r &= \\frac{4(2_{k} - 1)}{4(2^{k+1} - 4 + 2^{k} - 1)} \\\\\n",
    "  &= \\frac{2^k - 1}{3.2^k - 5} \\\\\n",
    "  &= \\frac{1}{3} \\quad(\\text{with}\\ k \\to\\infty)\n",
    "\\end{align*}\n",
    "$"
   ]
  },
  {
   "cell_type": "markdown",
   "metadata": {},
   "source": [
    "**b)**\n",
    "\n",
    "Assume that $n = 2^k$ to simplify the calculation.\n",
    "\n",
    "* Number of required leaf nodes to store all data: $n_{leaf} = 2^k$. So, the total number of nodes is: $n_{node} = 2^{k+1} - 1$\n",
    "\n",
    "* Number of pointers (notice that leaf nodes don't have child pointers): $n_{pointer} = 2(2^k - 1) = 2^{k+1} -2 $\n",
    "\n",
    "Overhead fraction:\n",
    "\n",
    "$\n",
    "\\begin{align*}\n",
    "r &= \\frac{4.2^k}{4.2^k + 2(2^{k+1} -2)} \\\\\n",
    "  &= \\frac{2^{k+2}}{2^{k+3} -4} \\\\\n",
    "  &= \\frac{1}{2} \\quad(\\text{with}\\ k \\to\\infty)\n",
    "\\end{align*}\n",
    "$"
   ]
  }
 ],
 "metadata": {
  "kernelspec": {
   "display_name": "Python 3",
   "language": "python",
   "name": "python3"
  },
  "language_info": {
   "codemirror_mode": {
    "name": "ipython",
    "version": 3
   },
   "file_extension": ".py",
   "mimetype": "text/x-python",
   "name": "python",
   "nbconvert_exporter": "python",
   "pygments_lexer": "ipython3",
   "version": "3.5.2"
  }
 },
 "nbformat": 4,
 "nbformat_minor": 1
}
