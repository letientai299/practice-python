{
 "cells": [
  {
   "cell_type": "markdown",
   "metadata": {},
   "source": [
    "### 3.1\n",
    "\n",
    "A common problem for compilers and text editors is determining whether the parentheses in a string are balenced and propertly nested. For example, ths string `((())())()` contains properly nested pairs of parentheses, which the string `)()(` and `())` do not. Give an algotithm that returns true if a string contains properly nested and balanced parentheses, and false if otherwise. For full credit, identify the position of the first offending parenthesis if the string is not properly nested and balanced."
   ]
  },
  {
   "cell_type": "markdown",
   "metadata": {},
   "source": [
    "Use a stack.\n",
    "\n",
    "```python\n",
    "def find_first_offending_parenthesis(parens):\n",
    "    stack = []\n",
    "\n",
    "    # Assume that the input contains only parenthesis\n",
    "    for (index, c) in enumerate(parens):\n",
    "        if c == '(':\n",
    "            stack.append((c, index))\n",
    "        else:\n",
    "            if len(stack) != 0:\n",
    "                stack.pop()\n",
    "            else:\n",
    "                return index\n",
    "\n",
    "    return -1 if len(stack) == 0 else stack[0][1]\n",
    "\n",
    "\n",
    "def test(input, expected):\n",
    "    actual = find_first_offending_parenthesis(input)\n",
    "    if actual != expected:\n",
    "        print('[Failded]', 'With input={}, expected={}, actual={}'\n",
    "              .format(input, expected, actual))\n",
    "    else:\n",
    "        print('[Passed]')\n",
    "\n",
    "\n",
    "test('', -1)\n",
    "test('()', -1)\n",
    "test('((()))', -1)\n",
    "test('((()((()))))', -1)\n",
    "test('()()()()', -1)\n",
    "test('()()()()()', -1)\n",
    "test(')()', 0)\n",
    "test('(((()', 0)\n",
    "test(')))', 0)\n",
    "test('(()(())))', 8)\n",
    "```"
   ]
  }
 ],
 "metadata": {
  "kernelspec": {
   "display_name": "Python 3",
   "language": "python",
   "name": "python3"
  },
  "language_info": {
   "codemirror_mode": {
    "name": "ipython",
    "version": 3.0
   },
   "file_extension": ".py",
   "mimetype": "text/x-python",
   "name": "python",
   "nbconvert_exporter": "python",
   "pygments_lexer": "ipython3",
   "version": "3.5.2"
  }
 },
 "nbformat": 4,
 "nbformat_minor": 0
}