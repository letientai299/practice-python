{
 "cells": [
  {
   "cell_type": "markdown",
   "metadata": {},
   "source": [
    "### 3.8\n",
    "\n",
    "Design a data structure to support the following operations:\n",
    "\n",
    "* `insert(x, T)`: Insert item `x` into the set `T`.\n",
    "* `delete(k, T)`: Delete the `kth` smallest element from `T`.\n",
    "* `member(x, T)`: Return true if $x \\in T$"
   ]
  },
  {
   "cell_type": "markdown",
   "metadata": {},
   "source": [
    "A binary search tree can fullfil our requirement. `insert` and `member` (just another name for `search`) take $log(n)$. For `delete(k, T)`, we only need to keep track of the size of the tree, update it for each insertion or deletion, then, we can perform the search for $k$th element by compare $k$ with the order the current node. For example: Root node should have order is $n/2$, if $k > n/2$ then we switch the right child of the root node... "
   ]
  }
 ],
 "metadata": {
  "kernelspec": {
   "display_name": "Python 3",
   "language": "python",
   "name": "python3"
  },
  "language_info": {
   "codemirror_mode": {
    "name": "ipython",
    "version": 3
   },
   "file_extension": ".py",
   "mimetype": "text/x-python",
   "name": "python",
   "nbconvert_exporter": "python",
   "pygments_lexer": "ipython3",
   "version": "3.5.2"
  }
 },
 "nbformat": 4,
 "nbformat_minor": 1
}
