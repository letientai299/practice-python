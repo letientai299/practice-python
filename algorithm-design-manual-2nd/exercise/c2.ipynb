{
 "cells": [
  {
   "cell_type": "markdown",
   "metadata": {},
   "source": [
    "2.7\n",
    "---\n",
    "\n",
    "1. Is $2^{n+1} = O(2^n)$?\n",
    "\n",
    "Yes.\n",
    "\n",
    "$$\n",
    "0 \\le 2^{n+1} = 2 \\times 2^n \\lt 3\\times2^n\n",
    "$$\n",
    "\n",
    "So, by defintion, we have $ 2^{n+1} = O(2^n) $\n",
    "\n",
    "-------\n",
    "\n",
    "2. Is $ 2^{2n} = O(2^n)$ \n",
    "\n"
   ]
  }
 ],
 "metadata": {
  "kernelspec": {
   "display_name": "Python 3",
   "language": "python",
   "name": "python3"
  },
  "language_info": {
   "codemirror_mode": {
    "name": "ipython",
    "version": 3
   },
   "file_extension": ".py",
   "mimetype": "text/x-python",
   "name": "python",
   "nbconvert_exporter": "python",
   "pygments_lexer": "ipython3",
   "version": "3.5.2"
  }
 },
 "nbformat": 4,
 "nbformat_minor": 1
}
