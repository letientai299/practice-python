{
 "cells": [
  {
   "cell_type": "markdown",
   "metadata": {},
   "source": [
    "### 4.46\n",
    "\n",
    "You are given 12 coins. One of them is heavier of lighter than the rest. Identify this coin in just three weighings."
   ]
  },
  {
   "cell_type": "markdown",
   "metadata": {},
   "source": [
    "This problem is so interesting. My best is 3 weighings. I cannot solve this problem with 3 weighings, hence I need to lookup the solution online. The following link is a good read on this problem.\n",
    "\n",
    "\n",
    "http://mathforum.org/library/drmath/view/55618.html"
   ]
  }
 ],
 "metadata": {
  "kernelspec": {
   "display_name": "Python 3",
   "language": "python",
   "name": "python3"
  },
  "language_info": {
   "codemirror_mode": {
    "name": "ipython",
    "version": 3
   },
   "file_extension": ".py",
   "mimetype": "text/x-python",
   "name": "python",
   "nbconvert_exporter": "python",
   "pygments_lexer": "ipython3",
   "version": "3.5.2+"
  }
 },
 "nbformat": 4,
 "nbformat_minor": 1
}
