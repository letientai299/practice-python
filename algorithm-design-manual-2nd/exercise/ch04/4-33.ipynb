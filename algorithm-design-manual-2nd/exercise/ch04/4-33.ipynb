{
 "cells": [
  {
   "cell_type": "markdown",
   "metadata": {},
   "source": [
    "### 4.33\n",
    "\n",
    "Suppose that you are given a sorted sequence of _distinct_ integers ${a_1, a_2, a_3,\\ldots, a_n}$. Give an $O\\log(n)$ algoritm to determine whether there exists an $i$ index such as $a_i = i$. For example, in $\\{ -10, -3, 3, 5,7\\},\\ a_3 = 3$. In $\\{2,3,4,5\\}$, there is no such $i$."
   ]
  },
  {
   "cell_type": "markdown",
   "metadata": {},
   "source": [
    "Binary search. Start with $i = n/2$. If $a_i > i$, jump to left half, otherwise, jump to right half.\n"
   ]
  }
 ],
 "metadata": {
  "kernelspec": {
   "display_name": "Python 3",
   "language": "python",
   "name": "python3"
  },
  "language_info": {
   "codemirror_mode": {
    "name": "ipython",
    "version": 3
   },
   "file_extension": ".py",
   "mimetype": "text/x-python",
   "name": "python",
   "nbconvert_exporter": "python",
   "pygments_lexer": "ipython3",
   "version": "3.5.2+"
  }
 },
 "nbformat": 4,
 "nbformat_minor": 1
}
