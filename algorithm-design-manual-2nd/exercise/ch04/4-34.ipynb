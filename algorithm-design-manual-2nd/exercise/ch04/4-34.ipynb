{
 "cells": [
  {
   "cell_type": "markdown",
   "metadata": {},
   "source": [
    "### 4.34\n",
    "\n",
    "Suppose that you are givena sorted sequence of _distinct_ integers $\\{a_1, a_2, \\ldots, a_n\\}$, drawn from $1$ to $m$ where $ n < m$. Give an $O(\\log(n))$ algorithm to find an integer $\\leq m$ that is not present in $a$. For full credit, find the smallest such integer."
   ]
  },
  {
   "cell_type": "markdown",
   "metadata": {},
   "source": [
    "We will find the smallest $i$ such that $a_i > i$. After that, the smallest number that matches with requirement is either $a_{i-1}+1$ if $i > 0$ or 1 if $i = 1$.\n",
    "\n",
    "In order to find such $i$, we can use binary search. Start with $i = n/2$. If $a_i > i$, remember $i$ as the current smallest index we can find. Then, jump to left half. If $a_i \\leq i$, jump to right half. (In fact, it should be suprised if there existed $i$ that $a_i < i$)"
   ]
  }
 ],
 "metadata": {
  "kernelspec": {
   "display_name": "Python 3",
   "language": "python",
   "name": "python3"
  },
  "language_info": {
   "codemirror_mode": {
    "name": "ipython",
    "version": 3
   },
   "file_extension": ".py",
   "mimetype": "text/x-python",
   "name": "python",
   "nbconvert_exporter": "python",
   "pygments_lexer": "ipython3",
   "version": "3.5.2+"
  }
 },
 "nbformat": 4,
 "nbformat_minor": 1
}
