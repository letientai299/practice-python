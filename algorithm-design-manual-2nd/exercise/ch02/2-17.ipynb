{
 "cells": [
  {
   "cell_type": "markdown",
   "metadata": {},
   "source": [
    "### 2.17 Show that for any real constants $a$ and $b$ such that $b \\gt 0$\n",
    "\n",
    "$$(n+a)^b = \\Theta(n^b)$$"
   ]
  },
  {
   "cell_type": "markdown",
   "metadata": {},
   "source": [
    "Note that\n",
    "\n",
    "$\\lim_{n\\to\\infty} \\frac{(n+a)^b}{n^b} = \\lim_{n\\to\\infty} (1 + \\frac{a}{n})^b = \\lim_{n\\to\\infty} 1^b = 1$"
   ]
  }
 ],
 "metadata": {
  "kernelspec": {
   "display_name": "Python 3",
   "language": "python",
   "name": "python3"
  },
  "language_info": {
   "codemirror_mode": {
    "name": "ipython",
    "version": 3
   },
   "file_extension": ".py",
   "mimetype": "text/x-python",
   "name": "python",
   "nbconvert_exporter": "python",
   "pygments_lexer": "ipython3",
   "version": "3.5.2"
  }
 },
 "nbformat": 4,
 "nbformat_minor": 1
}
