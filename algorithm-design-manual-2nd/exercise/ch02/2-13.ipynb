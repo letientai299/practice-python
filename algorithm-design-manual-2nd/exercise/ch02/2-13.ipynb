{
 "cells": [
  {
   "cell_type": "markdown",
   "metadata": {},
   "source": [
    "### 2.13 Prove that if $f_1(n) = O(g_1(n))$ and $f_2(n) = O(g_2(n))$, then $f_1(n) + f_2(n) = O(g_1(n) + g_2(n))$"
   ]
  },
  {
   "cell_type": "markdown",
   "metadata": {},
   "source": [
    "From the input, there're $c_1$ and $c_2$ such that\n",
    "\n",
    "$ 0 \\le f_1(n) \\le c_1.g_1(n), \\forall n \\ge n_1$\n",
    "\n",
    "and \n",
    "\n",
    "$ 0 \\le f_2(n) \\le c_2.g_2(n), \\forall n \\ge n_2$\n",
    "\n",
    "Let $c = \\max(c_1, c_2)$ and $n_0 = \\max(n_1, n_2)$. Then we have\n",
    "\n",
    "$0 \\le f_1(n) + f_2(n) \\le c(g_1(n) + g_2(n)), \\forall n \\ge n_0$\n",
    "\n",
    "$ \\Rightarrow f_1(n) + f_2(n) = O(g_1(n) + g_2(n))$"
   ]
  }
 ],
 "metadata": {
  "kernelspec": {
   "display_name": "Python 3",
   "language": "python",
   "name": "python3"
  },
  "language_info": {
   "codemirror_mode": {
    "name": "ipython",
    "version": 3
   },
   "file_extension": ".py",
   "mimetype": "text/x-python",
   "name": "python",
   "nbconvert_exporter": "python",
   "pygments_lexer": "ipython3",
   "version": "3.5.2"
  }
 },
 "nbformat": 4,
 "nbformat_minor": 1
}
