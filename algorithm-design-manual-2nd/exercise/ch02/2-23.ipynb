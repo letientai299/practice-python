{
 "cells": [
  {
   "cell_type": "markdown",
   "metadata": {},
   "source": [
    "### 2.23 For each of these questions, briefly explain your answer."
   ]
  },
  {
   "cell_type": "markdown",
   "metadata": {},
   "source": [
    "#### (a) If I prove that an algorithm take $O(n^2)$ worst-case time, is it possible that it takes $O(n)$ on some inputs?"
   ]
  },
  {
   "cell_type": "markdown",
   "metadata": {},
   "source": [
    "Yes. \n",
    "\n",
    "Consider the following naive algorithm to find the first duplicated item in a list: Take each item, compare it with the rest of the list. If they are same, return that item. \n",
    "\n",
    "That algorithm takes $O(n^2)$ on average and on worst-case inputs. \n",
    "But, for some input that the fisrt item is duplicated, it only takes $O(n)$ time."
   ]
  },
  {
   "cell_type": "markdown",
   "metadata": {},
   "source": [
    "#### (b) If I prove that an algorithm takes $O(n^2)$ worst-case time, is it possible that it takes $O(n)$ on all inputs?"
   ]
  },
  {
   "cell_type": "markdown",
   "metadata": {},
   "source": [
    "Yes. $O(n^2)$ is only an upper bound and that may not a closest bound to the algorithm.\n"
   ]
  },
  {
   "cell_type": "markdown",
   "metadata": {},
   "source": [
    "#### (c) If I prove that an algorithm takes $\\Theta(n^2)$ worst-case time, is it possible that it takes $O(n)$ on some inputs?"
   ]
  },
  {
   "cell_type": "markdown",
   "metadata": {},
   "source": [
    "Yes. See the above example."
   ]
  },
  {
   "cell_type": "markdown",
   "metadata": {},
   "source": [
    "#### (d) If I prove that an algorithm takes $\\Theta(n^2)$ worst-case time, is it possible that it takes $O(n)$ on all inputs?"
   ]
  },
  {
   "cell_type": "markdown",
   "metadata": {},
   "source": [
    "No"
   ]
  },
  {
   "cell_type": "markdown",
   "metadata": {},
   "source": [
    "#### (e) Is the function $f(n) = \\Theta(n^2)$, where $f(n) = 100n^2$ for even $n$ and $f(n) = 20n^2 -n\\log_2 n$ for odd n?"
   ]
  },
  {
   "cell_type": "markdown",
   "metadata": {},
   "source": [
    "Yes"
   ]
  }
 ],
 "metadata": {
  "kernelspec": {
   "display_name": "Python 3",
   "language": "python",
   "name": "python3"
  },
  "language_info": {
   "codemirror_mode": {
    "name": "ipython",
    "version": 3
   },
   "file_extension": ".py",
   "mimetype": "text/x-python",
   "name": "python",
   "nbconvert_exporter": "python",
   "pygments_lexer": "ipython3",
   "version": "3.5.2"
  }
 },
 "nbformat": 4,
 "nbformat_minor": 1
}
