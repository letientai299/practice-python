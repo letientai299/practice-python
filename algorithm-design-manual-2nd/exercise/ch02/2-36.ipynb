{
 "cells": [
  {
   "cell_type": "markdown",
   "metadata": {},
   "source": [
    "### 2.36\n",
    "\n",
    "Consider the following code fragment\n",
    "\n",
    "```python\n",
    "for i=1 to n/2 do\n",
    "    for j=i to n-i do\n",
    "        for k=1 to j do\n",
    "            output 'foobar'\n",
    "```\n",
    "\n",
    "Assume n is even. Let $T(n)$ denote the number of times `foobar` is printed as a function of $n$.\n",
    "\n",
    "* (a) Express $T(n)$ as three nested summations.\n",
    "* (b) Simplify the summation. Show your work."
   ]
  },
  {
   "cell_type": "markdown",
   "metadata": {},
   "source": [
    "$\n",
    "\\begin{align*}\n",
    "T(n) &= \\sum_{i=1}^{n/2} \\sum_{j=i}^{n-i} \\sum_{k=1}^{j} 1 \\\\\n",
    "     &= \\sum_{i=1}^{n/2} \\sum_{j=i}^{n-i} j \\\\\n",
    "     &= \\sum_{i=1}^{n/2} \\frac{n(n-2i +1)}{2} \\\\\n",
    "     &= \\sum_{i=1}^{n/2} \\frac{n(n+1)}{2} - ni \\\\\n",
    "     &= \\frac{n^2(n+1)}{4} - n\\sum_{i=1}^{n/2} i \\\\\n",
    "     &= \\frac{n^2(n+1)}{4} - \\frac{n^2(n + 2)}{8}\\\\\n",
    "     &= \\frac{n^3}{8}\n",
    "\\end{align*}\n",
    "$"
   ]
  }
 ],
 "metadata": {
  "kernelspec": {
   "display_name": "Python 3",
   "language": "python",
   "name": "python3"
  },
  "language_info": {
   "codemirror_mode": {
    "name": "ipython",
    "version": 3
   },
   "file_extension": ".py",
   "mimetype": "text/x-python",
   "name": "python",
   "nbconvert_exporter": "python",
   "pygments_lexer": "ipython3",
   "version": "3.5.2"
  }
 },
 "nbformat": 4,
 "nbformat_minor": 1
}
