{
 "cells": [
  {
   "cell_type": "markdown",
   "metadata": {},
   "source": [
    "### 2-44\n",
    "\n",
    "We have 1000 data items to store on 1000 nodes. Each node can store\n",
    "copies of exactly three different items. Propose a replication scheme to\n",
    "minimize data loss as nodes fail. What is the expected number of data\n",
    "entries that get lost when three random nodes fail?"
   ]
  },
  {
   "cell_type": "markdown",
   "metadata": {},
   "source": [
    "---\n",
    "\n",
    "Let's assume that there's exist a method to store data such that any data item\n",
    "would be backed up in at least 4 nodes. So with only 3 nodes fail, no data would\n",
    "be lost. If so, there's should be at least:\n",
    "\n",
    "$\n",
    "num_nodes = \\frac{4*1000}{3} > 1000\n",
    "$\n",
    "\n",
    "We can tell that the assumption is incorrect. The minimum data item can\n",
    "be lost should be 1.\n",
    "\n",
    "To achieve that minimum goal, consider the following scheme:\n",
    "\n",
    "```\n",
    "                  1   |\n",
    "              |   2   | node 1\n",
    "    node 501  |   3   |           |\n",
    "              |   4               | node 2\n",
    "                  5   |           |\n",
    "                  6   | node 3\n",
    "                  7   |           |\n",
    "                  8               | node 4\n",
    "                  9               |\n",
    "                  10\n",
    "                  11\n",
    "```\n",
    "\n",
    "\n",
    "Notice that each item is covered exactly by 3 nodes.\n",
    "\n",
    "On the right side, each $n$ nodes can handle $2n+1$ data items. So,\n",
    "to handle 1000 items, we need at most 500 nodes (that 500th node would\n",
    "cover item 1 again), and each item is covered by 2 nodes. The rest 500\n",
    "nodes would add one more back up to each item.\n",
    "\n",
    "If 3 random nodes fail, the probability of 1 item lost is just\n",
    "$\\frac{1}{{}^nC_k} = \\frac{1}{{}^{1000}C_3} = \\frac{1}{166167000}$\n",
    "\n",
    "That's not bad, huh?"
   ]
  }
 ],
 "metadata": {
  "kernelspec": {
   "display_name": "Python 3",
   "language": "python",
   "name": "python3"
  },
  "language_info": {
   "codemirror_mode": {
    "name": "ipython",
    "version": 3
   },
   "file_extension": ".py",
   "mimetype": "text/x-python",
   "name": "python",
   "nbconvert_exporter": "python",
   "pygments_lexer": "ipython3",
   "version": "3.5.2"
  }
 },
 "nbformat": 4,
 "nbformat_minor": 1
}
