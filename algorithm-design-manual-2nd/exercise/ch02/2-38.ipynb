{
 "cells": [
  {
   "cell_type": "markdown",
   "metadata": {},
   "source": [
    "### 2.38\n",
    "\n",
    "In grade school, you learned to multiply long numbers on a digit-by-digit basis, so that $127 \\times 211 = 127 \\times 1+ 127 \\times  10 + 127 \\times 200 = 26,397 $. Analyze the time complexity of multiplying two $n$-digit numbers with this method as a function of $n$ (assume constant base size). Assume that single-digit by single-digit addition or multiplication takes $O(1)$ time."
   ]
  },
  {
   "cell_type": "markdown",
   "metadata": {},
   "source": [
    "It's a pain to express the vertical multiplication in Mathjax, so hope you get the idea)\n",
    "\n",
    "\n",
    "```\n",
    "        aaa       (n digits)\n",
    "    x   bbb       (n digits)\n",
    "-----------\n",
    "       cccc       (maximum n+1 digits)\n",
    "      dddd        (again, maximum n+1 digits)\n",
    "    ...\n",
    "    kkkk\n",
    "-----------\n",
    "  rrrrrrrrr       (so, this value is maximum 2n digits)\n",
    "```\n",
    "\n",
    "Some observations:\n",
    "\n",
    "- $n$-digits $\\times$ single-digit would take at least $n$ multiplication, and (in worst case).\n",
    "- After the single-digit multiplications, we then have to perform $n$ addititions between sub-result. They take: $\\sum_{i = n+1}^{2n}i = \\frac{n(3n+1)}{2}$\n",
    "\n",
    "So, the multiplication would take:\n",
    "\n",
    "$\n",
    "2n + \\frac{n(3n + 1)}{2} = O(n^2)\n",
    "$"
   ]
  }
 ],
 "metadata": {
  "kernelspec": {
   "display_name": "Python 3",
   "language": "python",
   "name": "python3"
  },
  "language_info": {
   "codemirror_mode": {
    "name": "ipython",
    "version": 3
   },
   "file_extension": ".py",
   "mimetype": "text/x-python",
   "name": "python",
   "nbconvert_exporter": "python",
   "pygments_lexer": "ipython3",
   "version": "3.5.2"
  }
 },
 "nbformat": 4,
 "nbformat_minor": 1
}
