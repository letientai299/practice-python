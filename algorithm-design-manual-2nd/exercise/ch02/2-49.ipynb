{
 "cells": [
  {
   "cell_type": "markdown",
   "metadata": {},
   "source": [
    "### 2.49\n",
    "\n",
    "Suppose we start with $n$ companies that eventually merge into one big company. How many diffrent ways are there for them to merge?"
   ]
  },
  {
   "cell_type": "markdown",
   "metadata": {},
   "source": [
    "Let $f(n)$ is the number of ways $n$ companies can merge together.\n",
    "\n",
    "- $f(1) = 0$. There's nothing to do.\n",
    "- $f(2) = 1$. Of course with 2 companies $\\{a, b\\}$, we can only merge them to $\\{ab\\}$.\n",
    "- $f(3) = 3f(2) = 3$. We can choose to merge any 2 companies into one, and then merge it with the final company. With this simple case, there's 3 way to select 2 companies.\n",
    "\n",
    "So, we can come up to the formula (with $n \\ge 3$)\n",
    "\n",
    "$\n",
    "\\begin{align*}\n",
    "f(n) &= {}^{n}C_{n-1}f(n-1) \\\\\n",
    "     &= \\prod_{i=n}^{3} {}^{i}C_{i-1} \\\\\n",
    "     &= \\prod_{i=n}^{3} \\frac{i!}{(i-1)!} \\\\\n",
    "     &= \\prod_{i=n}^{3} i \\\\\n",
    "     &= \\frac{n!}{2}\n",
    "\\end{align*}\n",
    "$\n",
    "\n",
    "\n"
   ]
  }
 ],
 "metadata": {
  "kernelspec": {
   "display_name": "Python 3",
   "language": "python",
   "name": "python3"
  },
  "language_info": {
   "codemirror_mode": {
    "name": "ipython",
    "version": 3
   },
   "file_extension": ".py",
   "mimetype": "text/x-python",
   "name": "python",
   "nbconvert_exporter": "python",
   "pygments_lexer": "ipython3",
   "version": "3.5.2"
  }
 },
 "nbformat": 4,
 "nbformat_minor": 1
}
