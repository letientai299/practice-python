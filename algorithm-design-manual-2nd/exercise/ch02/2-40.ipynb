{
 "cells": [
  {
   "cell_type": "markdown",
   "metadata": {},
   "source": [
    "### 2.40\n",
    "\n",
    "Show that $\\lceil \\log(n+1) \\rceil = \\lfloor \\log n \\rfloor +1 $"
   ]
  },
  {
   "cell_type": "markdown",
   "metadata": {},
   "source": [
    "Assume that $\\log(n)$ here mean $\\log_2(n)$. We only need to take care 3 cases:\n",
    "\n",
    "- $2^k < n < 2^{k+1} - 1$\n",
    "- $n + 1 = 2^{k+1}$\n",
    "- $n = 2^{k+1}$\n",
    "\n",
    "It's easy to verify that the equation hold for all 3 cases."
   ]
  }
 ],
 "metadata": {
  "kernelspec": {
   "display_name": "Python 3",
   "language": "python",
   "name": "python3"
  },
  "language_info": {
   "codemirror_mode": {
    "name": "ipython",
    "version": 3
   },
   "file_extension": ".py",
   "mimetype": "text/x-python",
   "name": "python",
   "nbconvert_exporter": "python",
   "pygments_lexer": "ipython3",
   "version": "3.5.2"
  }
 },
 "nbformat": 4,
 "nbformat_minor": 1
}
