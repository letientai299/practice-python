{
 "cells": [
  {
   "cell_type": "markdown",
   "metadata": {},
   "source": [
    "### 2.35\n",
    "Consider the following code fragment:\n",
    "\n",
    "```py\n",
    "for i=1 to n do\n",
    "    for j=i to 2*i do\n",
    "        output 'foobar'\n",
    "```\n",
    "\n",
    "Let $T(n)$ denote the number of times `foobar` is printed as a function of $n$.\n",
    "\n",
    "* a. Express $T(n)$ as a summation.\n",
    "* b. Simplify the summation. Show your work."
   ]
  },
  {
   "cell_type": "markdown",
   "metadata": {},
   "source": [
    "$\n",
    "\\begin{align*}\n",
    "T(n) &= \\sum_{i=1}^{n} \\sum_{j=i}^{2i} 1 \\\\\n",
    "     &= \\sum_{i=1}^{n} (2i - i + 1) \\\\\n",
    "     &= \\sum_{i=1}^{n} (i + 1) \\\\\n",
    "     &= n+ \\sum_{i=1}^{n} i \\\\\n",
    "     &= n + \\frac{1}{2}n(n+1) \\\\\n",
    "\\end{align*}\n",
    "$"
   ]
  }
 ],
 "metadata": {
  "kernelspec": {
   "display_name": "Python 3",
   "language": "python",
   "name": "python3"
  },
  "language_info": {
   "codemirror_mode": {
    "name": "ipython",
    "version": 3
   },
   "file_extension": ".py",
   "mimetype": "text/x-python",
   "name": "python",
   "nbconvert_exporter": "python",
   "pygments_lexer": "ipython3",
   "version": "3.5.2"
  }
 },
 "nbformat": 4,
 "nbformat_minor": 1
}
