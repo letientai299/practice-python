{
 "cells": [
  {
   "cell_type": "markdown",
   "metadata": {},
   "source": [
    "### 2.8. For each of the following pairs of functions, either $f(n)$ is in $O(g(n))$, $f(n)$ is in $\\Omega(g(n))$, or $f(n)=\\Theta(g(n))$. Determine which relationship is correct and briefly explain why."
   ]
  },
  {
   "cell_type": "markdown",
   "metadata": {},
   "source": [
    "#### 1/ $ f(n) = \\log(n^2)$; $ g(n) = \\log(n) + 5 $\n",
    "\n",
    "$\n",
    "f(n) = \\log(n^2) = 2\\log(n) \\le 2(\\log(n) + 5) = 2g(n)\n",
    "$\n",
    "\n",
    "And\n",
    "\n",
    "$ \n",
    "g(n) \\le f(n), \\forall n \\ge n_0 = 2^5 \n",
    "$\n",
    "\n",
    "So, $ f(n) = \\Theta(g(n)) $"
   ]
  },
  {
   "cell_type": "markdown",
   "metadata": {},
   "source": [
    "#### 2/ $ f(n) = \\sqrt n$; $ g(n) = \\log(n^2) $\n",
    "\n",
    "Apply L'Hopital's rule\n",
    "\n",
    "\n",
    "$\n",
    "\\begin{align}\n",
    "\\lim_{n\\to\\infty} \\frac{\\sqrt n}{\\log(n^2)} \n",
    "&= \\lim_{n\\to\\infty} \\frac{\\frac{1}{2\\sqrt n}}{\\frac{2}{n \\ln 2}}\\\\\n",
    "&= \\lim_{n\\to\\infty} \\frac{\\sqrt n \\ln 2}{4} \\\\\n",
    "&=  \\infty\n",
    "\\end{align}\n",
    "$\n",
    "\n",
    "So $f(n) = \\Omega(g(n)) $"
   ]
  },
  {
   "cell_type": "markdown",
   "metadata": {},
   "source": [
    "#### 3/ $ f(n) = \\log^2(n)$; $ g(n) = \\log(n) $\n",
    "\n",
    "$ \n",
    "\\begin{align*}\n",
    "\\lim_{n \\to \\infty}\\frac{f(n)}{g(n)} & = \\lim_{n \\to \\infty} \\frac{\\log^2(n)}{\\log(n)} \\\\\n",
    "& = \\lim_{n \\to \\infty} \\log(n) \\\\\n",
    "& = \\infty \n",
    "\\end{align*}$\n",
    "\n",
    "So $ f(n) = \\Omega(g(n)) $\n"
   ]
  },
  {
   "cell_type": "markdown",
   "metadata": {},
   "source": [
    "#### 4/ $ f(n) = n$; $ g(n) = \\log^2(n) $\n",
    "\n",
    "Use L'Hopital's Rule\n",
    "\n",
    "$\n",
    "\\begin{align}\n",
    "\\lim_{n\\to\\infty} \\frac{f}{g} &= \\lim_{n\\to\\infty} \\frac{n}{\\log^2(n)} \\\\\n",
    "&= \\lim_{n\\to\\infty} \\frac{1}{\\frac{2\\log(n)}{n\\ln 2}} \\\\\n",
    "&= \\lim_{n\\to\\infty} \\frac{n\\ln 2}{2\\frac{\\ln n}{\\ln 2}} \\\\\n",
    "&= \\lim_{n\\to\\infty} \\frac{n \\ln^2 2}{2\\ln n}  \\\\\n",
    "&= \\lim_{n\\to\\infty} \\frac{\\ln^2 2}{2\\frac{1}{n}}  \\text{(One more L'Hopital here)} \\\\\n",
    "&= \\lim_{n\\to\\infty} n\\ln^2 2 \\\\\n",
    "&= \\infty\n",
    "\\end{align}\n",
    "$\n",
    "\n",
    "So $f(n) = \\Omega(g(n))$"
   ]
  },
  {
   "cell_type": "markdown",
   "metadata": {},
   "source": [
    "#### 5/ $ f(n) = n\\log(n) + n$; $ g(n) = \\log(n) $\n",
    "$\n",
    "\\begin{align*}\n",
    "\\lim_{n \\to \\infty}\\frac{f(n)}{g(n)} & = \\lim_{n \\to \\infty} \\frac{n\\log(n) + n}{\\log(n)} \\\\\n",
    " & = \\lim_{n \\to \\infty} \\left(n + \\frac{n}{\\log(n)}\\right) \\\\\n",
    " & = \\infty \n",
    "\\end{align*}\n",
    "$\n",
    "\n",
    "So $ f(n) = \\Omega(g(n)) $"
   ]
  },
  {
   "cell_type": "markdown",
   "metadata": {},
   "source": [
    "#### 6/ $ f(n) = 10$; $ g(n) = \\log(10) $\n",
    "\n",
    "\n",
    "$ 0 \\le f(n) = 10 \\le 10\\log(10) = 10g(n) $\n",
    "\n",
    "And \n",
    "\n",
    "$ 0 \\le g(n) = \\log(10) \\le 10 = f(n) $\n",
    "\n",
    "So $ f(n) = \\Theta(g(n)) $"
   ]
  },
  {
   "cell_type": "markdown",
   "metadata": {},
   "source": [
    "#### 7/ $ f(n) = 2^n$; $ g(n) = 10n^2 $\n",
    "\n",
    "We can use induction to show that $ 2^n \\ge n^3 \\forall n \\ge 10 \\tag{*} $\n",
    "\n",
    "$(*)$ holds for $n=10$. Assumpt that $(*)$ holds for $ n = k \\ge 10$. That means $2^k \\ge k^3$. We have to prove that $(*)$ also hold for $n = k+1$.\n",
    "\n",
    "Note that $ 2^{k+1} = 2 \\times 2^k \\ge 2k^3 $ and $ (k+1)^3 = k^3 + 3k^2 + 3k + 1 \\lt k^3 + 7k^2 $.\n",
    "\n",
    "We also have $k \\ge 10 \\Rightarrow k^3 \\ge 7k^2 $. Hence $(*)$ holds for $n = k+1$. \n",
    "\n",
    "\n",
    "$$\n",
    "\\lim_{n \\to \\infty} \\frac{2^n}{10n^2}\n",
    "\\ge \\lim_{n \\to \\infty} \\frac{n^3}{10n^2} \n",
    "= \\lim_{n \\to\\infty} \\frac{n}{10} = \\infty\n",
    "$$\n",
    "\n",
    "So $ f(n) = \\Omega(g(n)) $"
   ]
  },
  {
   "cell_type": "markdown",
   "metadata": {},
   "source": [
    "#### 8/ $ f(n) = 2^n$; $ g(n) = 3^n $\n",
    "\n",
    "$ f(n) = 2^n \\le 3^n = g(n), \\forall n \\le 1 $\n",
    "\n",
    "So $ f(n) = O(g(n)) $\n",
    "\n",
    "\n"
   ]
  },
  {
   "cell_type": "markdown",
   "metadata": {},
   "source": [
    "### Note: [L'Hopital's rule](https://en.wikipedia.org/wiki/L%27H%C3%B4pital%27s_rule)\n",
    "\n",
    "Those exercise would be easier if I could recall that theorem faster. "
   ]
  }
 ],
 "metadata": {
  "kernelspec": {
   "display_name": "Python 3",
   "language": "python",
   "name": "python3"
  },
  "language_info": {
   "codemirror_mode": {
    "name": "ipython",
    "version": 3
   },
   "file_extension": ".py",
   "mimetype": "text/x-python",
   "name": "python",
   "nbconvert_exporter": "python",
   "pygments_lexer": "ipython3",
   "version": "3.5.2"
  }
 },
 "nbformat": 4,
 "nbformat_minor": 1
}
