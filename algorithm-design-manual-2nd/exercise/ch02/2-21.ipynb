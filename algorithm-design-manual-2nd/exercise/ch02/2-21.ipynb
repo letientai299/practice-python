{
 "cells": [
  {
   "cell_type": "markdown",
   "metadata": {},
   "source": [
    "### 2.21 True of False?"
   ]
  },
  {
   "cell_type": "markdown",
   "metadata": {},
   "source": [
    "#### (a) $2n^2 + 1 = O(n^2)$ "
   ]
  },
  {
   "cell_type": "markdown",
   "metadata": {},
   "source": [
    "True"
   ]
  },
  {
   "cell_type": "markdown",
   "metadata": {},
   "source": [
    "#### (b) $\\sqrt n = O(\\log n)$"
   ]
  },
  {
   "cell_type": "markdown",
   "metadata": {},
   "source": [
    "False.\n",
    "\n",
    "$\n",
    "\\begin{align}\n",
    "    \\lim_{+\\infty} \\frac{\\sqrt n}{\\log n}\n",
    "    &= \\lim_{+\\infty} \\frac{\\frac{1}{2\\sqrt n}}{\\frac{1}{n\\ln n}}\\\\\n",
    "    &= \\lim_{+\\infty} \\frac{\\sqrt n\\ln n}{2} \\\\\n",
    "    &= +\\infty\n",
    "\\end{align}\n",
    "$"
   ]
  },
  {
   "cell_type": "markdown",
   "metadata": {},
   "source": [
    "#### (c) $\\log n = O(\\sqrt n)$"
   ]
  },
  {
   "cell_type": "markdown",
   "metadata": {},
   "source": [
    "True"
   ]
  },
  {
   "cell_type": "markdown",
   "metadata": {},
   "source": [
    "#### (d) $n^2(1+\\sqrt n) = O(n^2\\log n)$"
   ]
  },
  {
   "cell_type": "markdown",
   "metadata": {},
   "source": [
    "False.\n",
    "\n",
    "$\n",
    "\\begin{align}\n",
    "    \\lim_{n\\to\\infty} \\frac{n^2(1 + \\sqrt n)}{n^2\\ln n} \n",
    "    &= \\lim_{n\\to\\infty} \\frac{1+ \\sqrt n}{\\ln n}\\\\\n",
    "    &= \\lim_{n\\to\\infty} \\frac{\\frac{1}{2\\sqrt n}}{\\frac{1}{n}}\\\\\n",
    "    &= \\lim_{n\\to\\infty} \\frac{\\sqrt n}{2} \\\\\n",
    "    &= +\\infty\n",
    "\\end{align}$"
   ]
  },
  {
   "cell_type": "markdown",
   "metadata": {},
   "source": [
    "#### (e) $3n^2 + \\sqrt n = O(n^2)$"
   ]
  },
  {
   "cell_type": "markdown",
   "metadata": {},
   "source": [
    "True"
   ]
  },
  {
   "cell_type": "markdown",
   "metadata": {},
   "source": [
    "#### (f) $\\sqrt n \\log n = O(n)$"
   ]
  },
  {
   "cell_type": "markdown",
   "metadata": {},
   "source": [
    "True"
   ]
  },
  {
   "cell_type": "markdown",
   "metadata": {},
   "source": [
    "#### (g) $\\log n = O(n^{-1/2})$"
   ]
  },
  {
   "cell_type": "markdown",
   "metadata": {},
   "source": [
    "False"
   ]
  }
 ],
 "metadata": {
  "kernelspec": {
   "display_name": "Python 3",
   "language": "python",
   "name": "python3"
  },
  "language_info": {
   "codemirror_mode": {
    "name": "ipython",
    "version": 3
   },
   "file_extension": ".py",
   "mimetype": "text/x-python",
   "name": "python",
   "nbconvert_exporter": "python",
   "pygments_lexer": "ipython3",
   "version": "3.5.2"
  }
 },
 "nbformat": 4,
 "nbformat_minor": 1
}
