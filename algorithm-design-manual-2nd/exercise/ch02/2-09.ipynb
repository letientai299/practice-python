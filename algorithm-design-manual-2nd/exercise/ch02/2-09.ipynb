{
 "cells": [
  {
   "cell_type": "markdown",
   "metadata": {},
   "source": [
    "### 2.9 For each of the following pairs of fuctions $f(n)$ and $g(n)$, determine whether $f(n) = O(g(n)), g(n) = O(f(n))$ or both."
   ]
  },
  {
   "cell_type": "markdown",
   "metadata": {},
   "source": [
    "#### (a) $f(n) = \\frac{n^2-n}{2}, g(n) = 6n$\n",
    "\n",
    "$\\lim\\frac{f}{g} = \\lim\\frac{n-1}{12} = \\infty$\n",
    "\n",
    "And \n",
    "\n",
    "$\\lim\\frac{g}{f} = \\lim\\frac{12}{n-1} = 0$\n",
    "\n",
    "So $g=O(f)$"
   ]
  },
  {
   "cell_type": "markdown",
   "metadata": {},
   "source": [
    "#### (b) $f(n) = n + 2\\sqrt n, g(n) = n^2$\n",
    "\n",
    "$\\lim\\frac{f}{g} \n",
    "= \\lim\\frac{f'}{g'} \n",
    "= \\lim\\frac{1 + \\frac{1}{\\sqrt n}}{2n} = 0$\n",
    "\n",
    "And \n",
    "\n",
    "$\\lim\\frac{g}{f} = \\infty $\n",
    "\n",
    "So $f = O(g)$"
   ]
  },
  {
   "cell_type": "markdown",
   "metadata": {},
   "source": [
    "#### (c) $f(n) = n\\log(n), g(n) = \\frac{n\\sqrt n}{2}$\n",
    "\n",
    "$\\lim\\frac{f}{g} = \\lim\\frac{2\\\\log(n)}{\\sqrt n} = 0$\n",
    "\n",
    "So, again, $f=O(g)$"
   ]
  },
  {
   "cell_type": "markdown",
   "metadata": {},
   "source": [
    "#### (d) $f(n) = n + \\log(n), g(n) = \\sqrt n$\n",
    "\n",
    "$g = O(f)$ since $n$ outgrows to $\\sqrt n$, and we can ignore the contribute of $\\log(n)$ in $f(n)$."
   ]
  },
  {
   "cell_type": "markdown",
   "metadata": {},
   "source": [
    "#### (e) $f(n) = 2\\log^2(n), g(n) = \\log(n)+ 1$\n",
    "\n",
    "$g = O(f)$"
   ]
  },
  {
   "cell_type": "markdown",
   "metadata": {},
   "source": [
    "#### (f) $f(n) = 4n\\log(n) + n, g(n) = \\frac{n^2 - n}{2}$\n",
    "\n",
    "$f = O(g)$"
   ]
  }
 ],
 "metadata": {
  "kernelspec": {
   "display_name": "Python 3",
   "language": "python",
   "name": "python3"
  },
  "language_info": {
   "codemirror_mode": {
    "name": "ipython",
    "version": 3
   },
   "file_extension": ".py",
   "mimetype": "text/x-python",
   "name": "python",
   "nbconvert_exporter": "python",
   "pygments_lexer": "ipython3",
   "version": "3.5.2"
  }
 },
 "nbformat": 4,
 "nbformat_minor": 1
}
