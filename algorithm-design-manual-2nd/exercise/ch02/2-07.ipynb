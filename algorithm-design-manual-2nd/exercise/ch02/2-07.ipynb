{
 "cells": [
  {
   "cell_type": "markdown",
   "metadata": {},
   "source": [
    "### 2.7 True or false"
   ]
  },
  {
   "cell_type": "markdown",
   "metadata": {},
   "source": [
    "#### 1/ Is $2^{n+1} = O(2^n)$?\n",
    "\n",
    "True. We have: \n",
    "\n",
    "$ 0 \\le f(n) = 2^{n+1} = 2 \\times 2^n \\lt 3\\times2^n = 3g(n)$\n",
    "\n",
    "So, there exist a constant `c` such that \n",
    "\n",
    "$0 \\le f(n) \\le g(n)$\n",
    "\n",
    "So, by defintion, we have $ 2^{n+1} = O(2^n) $"
   ]
  },
  {
   "cell_type": "markdown",
   "metadata": {},
   "source": [
    "#### 2/ Is $ 2^{2n} = O(2^n)$?\n",
    "\n",
    "False.\n",
    "\n",
    "$\n",
    "\\begin{align*}\n",
    "\\lim_{n \\to \\infty} \\frac{2^{2n}}{2^n} & = \\lim_{n \\to \\infty} 2^n \\\\\n",
    "& = +\\infty\n",
    "\\end{align*}\n",
    "$\n",
    "\n",
    "So, $ 2^{2n} \\ne O(2^n) $"
   ]
  }
 ],
 "metadata": {
  "kernelspec": {
   "display_name": "Python 3",
   "language": "python",
   "name": "python3"
  },
  "language_info": {
   "codemirror_mode": {
    "name": "ipython",
    "version": 3
   },
   "file_extension": ".py",
   "mimetype": "text/x-python",
   "name": "python",
   "nbconvert_exporter": "python",
   "pygments_lexer": "ipython3",
   "version": "3.5.2"
  }
 },
 "nbformat": 4,
 "nbformat_minor": 1
}
