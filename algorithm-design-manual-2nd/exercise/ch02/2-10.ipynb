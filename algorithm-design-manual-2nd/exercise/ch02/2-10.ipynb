{
 "cells": [
  {
   "cell_type": "markdown",
   "metadata": {},
   "source": [
    "### 2.10 Prove that $n^3 - 3n^2 -n + 1 = \\Theta(n^3)$"
   ]
  },
  {
   "cell_type": "markdown",
   "metadata": {},
   "source": [
    "Let $f(n) = n^3 - 3n^2 -n + 1$ and $g(n) = n^3$\n",
    "\n",
    "$\n",
    "0 \\le f(n) \\le g(n) \\Rightarrow f(n) = O(g(n)) \\tag{1}\n",
    "$\n",
    "\n",
    "$\n",
    "0 \\le g(n) \\le 2f(n), \\text{with sufficient }n \\Rightarrow g(n) = O(f(n)) \\tag{2}\n",
    "$\n",
    "\n",
    "From $(1)$ and $(2)$ we have $f = \\Theta(g)$\n"
   ]
  }
 ],
 "metadata": {
  "kernelspec": {
   "display_name": "Python 3",
   "language": "python",
   "name": "python3"
  },
  "language_info": {
   "codemirror_mode": {
    "name": "ipython",
    "version": 3
   },
   "file_extension": ".py",
   "mimetype": "text/x-python",
   "name": "python",
   "nbconvert_exporter": "python",
   "pygments_lexer": "ipython3",
   "version": "3.5.2"
  }
 },
 "nbformat": 4,
 "nbformat_minor": 1
}
