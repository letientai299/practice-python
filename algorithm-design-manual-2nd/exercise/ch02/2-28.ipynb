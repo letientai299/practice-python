{
 "cells": [
  {
   "cell_type": "markdown",
   "metadata": {},
   "source": [
    "### 2.28 For each of the following expressions $f(n)$ find a simple $g(n)$ such that $f(n) = \\Theta(g(n))$."
   ]
  },
  {
   "cell_type": "markdown",
   "metadata": {},
   "source": [
    "#### (a) $f(n) = \\sum_{i=1}^{n} 3i^4 + 2i^3 - 19i + 20$"
   ]
  },
  {
   "cell_type": "markdown",
   "metadata": {},
   "source": [
    "$g(n) = n^5$"
   ]
  },
  {
   "cell_type": "markdown",
   "metadata": {},
   "source": [
    "Use the same analysis in problem **(c)**, we can then choose $g(n) = 4^{n+1}$"
   ]
  },
  {
   "cell_type": "markdown",
   "metadata": {},
   "source": [
    "#### (c) $f(n) = \\sum_{i=1}^{n} 5^i + 3^{2i}$"
   ]
  },
  {
   "cell_type": "markdown",
   "metadata": {},
   "source": [
    "$\n",
    "\\begin{align*}\n",
    "f(n) &= \\sum_{i=1}^{n} 5^i + 3^{2i} \\\\\n",
    "     &= O(\\sum_{i=1}^{n} 9^i) \\\\\n",
    "     &= O\\left(\\frac{9^{n+1} - 1}{9 - 1}\\right) \\\\\n",
    "     &= O(9^n)\n",
    "\\end{align*}\n",
    "$\n",
    "\n",
    "So we can choose $g(n) = 9^n$"
   ]
  }
 ],
 "metadata": {
  "kernelspec": {
   "display_name": "Python 3",
   "language": "python",
   "name": "python3"
  },
  "language_info": {
   "codemirror_mode": {
    "name": "ipython",
    "version": 3
   },
   "file_extension": ".py",
   "mimetype": "text/x-python",
   "name": "python",
   "nbconvert_exporter": "python",
   "pygments_lexer": "ipython3",
   "version": "3.5.2"
  }
 },
 "nbformat": 4,
 "nbformat_minor": 1
}
